{
 "cells": [
  {
   "cell_type": "code",
   "execution_count": null,
   "id": "f21a7b1d",
   "metadata": {
    "slideshow": {
     "slide_type": "skip"
    }
   },
   "outputs": [],
   "source": [
    "from IPython.core.display import display, HTML\n",
    "display(HTML(\"<style>.container { width:100% !important; }</style>\"))"
   ]
  },
  {
   "cell_type": "code",
   "execution_count": null,
   "id": "a7576ef4",
   "metadata": {
    "slideshow": {
     "slide_type": "skip"
    }
   },
   "outputs": [],
   "source": [
    "%matplotlib inline\n",
    "import matplotlib.pyplot as plt"
   ]
  },
  {
   "cell_type": "code",
   "execution_count": null,
   "id": "634681e9",
   "metadata": {
    "slideshow": {
     "slide_type": "skip"
    }
   },
   "outputs": [],
   "source": [
    "import pandas as pd\n",
    "import numpy as np\n",
    "import os"
   ]
  },
  {
   "cell_type": "markdown",
   "id": "e2a34083",
   "metadata": {
    "slideshow": {
     "slide_type": "slide"
    }
   },
   "source": [
    "# 1. Twitter tennis datasets\n",
    "\n",
    "We compiled two separate tweet collections, `RG17` for **Roland-Garros 2017**, the French\n",
    "Open Tennis Tournament, and `uo17` for **US Open 2017**, the United States Open Tennis\n",
    "Championship.\n",
    "\n",
    "## Data collection\n",
    "\n",
    "- We gathered data with the Twitter Search API, by using the following two separate sets of keywords:\n",
    "\n",
    "```\n",
    "{@rolandgarros, #RolandGarros2017,\n",
    "#rolandgarros2017, #RolandGarros, #rolandgarros,\n",
    "#FrenchOpen, #frenchopen, #RG17, #rg17}\n",
    "\n",
    "{#usopen, #Usopen, #UsOpen, #USOPEN,\n",
    "#usopen17, #UsOpen17, #Usopen2017, @usopen,\n",
    "#WTA, #wta, #ATP, #atp, @WTA, @ATPWorldTour,\n",
    "#Tennis, #tennis, #tenis, #Tenis}\n",
    "```\n",
    "\n",
    "**NOTE:** retweets were excluded from these datasets"
   ]
  },
  {
   "cell_type": "markdown",
   "id": "e2c4ba39",
   "metadata": {
    "slideshow": {
     "slide_type": "subslide"
    }
   },
   "source": [
    "## Event timeline\n",
    "\n",
    "- **Qualifications:**\n",
    "   - RG17: 2017-05-22 -> 2017-05-26 (we collected data only from 2017-05-24)\n",
    "   - UO17: 2017-08-22 -> 2017-08-25\n",
    "- **Days without tournaments:**\n",
    "   - RG17: 2017-05-27\n",
    "   - UO17: 2017-08-26 -> 2017-08-27\n",
    "- **Main tournaments:** used for supervised model evaluation\n",
    "   - RG17: 2017-05-28 -> 2017-06-11 (15 days)\n",
    "   - UO17: 2017-08-28 -> 2017-09-10 (14 days)"
   ]
  },
  {
   "cell_type": "markdown",
   "id": "7d8d7146",
   "metadata": {
    "slideshow": {
     "slide_type": "fragment"
    }
   },
   "source": [
    "## Dataset preparation"
   ]
  },
  {
   "cell_type": "code",
   "execution_count": null,
   "id": "75c9b1de",
   "metadata": {
    "slideshow": {
     "slide_type": "fragment"
    }
   },
   "outputs": [],
   "source": [
    "from online_node2vec.data.tennis_handler import download_data_set\n",
    "data_dir = \"../data\"\n",
    "dataset_id = \"rg17\""
   ]
  },
  {
   "cell_type": "code",
   "execution_count": null,
   "id": "d75dc9cc",
   "metadata": {
    "slideshow": {
     "slide_type": "subslide"
    }
   },
   "outputs": [],
   "source": [
    "preproc_dir, handler = download_data_set(data_dir, dataset_id)\n",
    "print(\"Path for preprocessed data:\", preproc_dir)"
   ]
  },
  {
   "cell_type": "markdown",
   "id": "6418140b",
   "metadata": {
    "slideshow": {
     "slide_type": "subslide"
    }
   },
   "source": [
    "### Edge stream\n",
    "\n",
    "- **Nodes:** Twitter accounts\n",
    "- **Edges:** \n",
    "   - @-mentions between accounts\n",
    "   - timestamp is extracted from the tweet"
   ]
  },
  {
   "cell_type": "code",
   "execution_count": null,
   "id": "c7c666e2",
   "metadata": {
    "slideshow": {
     "slide_type": "fragment"
    }
   },
   "outputs": [],
   "source": [
    "edges = np.loadtxt(os.path.join(preproc_dir, \"edges.csv\"), delimiter=\"|\", max_rows=5)\n",
    "print(edges)"
   ]
  },
  {
   "cell_type": "markdown",
   "id": "a8798832",
   "metadata": {
    "slideshow": {
     "slide_type": "subslide"
    }
   },
   "source": [
    "Number of nodes and edges in the RG17 mention graph. \n",
    "- During the qualifiers the number of interactions is low. \n",
    "- Then user activity increases as the championship starts from May 28  \n",
    "- Activity burst due to Men’s Singles finals on June 7–9–11"
   ]
  },
  {
   "cell_type": "code",
   "execution_count": null,
   "id": "19e5154e",
   "metadata": {
    "slideshow": {
     "slide_type": "fragment"
    }
   },
   "outputs": [],
   "source": [
    "fig = handler.visualize(kind=\"graph\", figsize=(8,5))\n",
    "fig.axes[0].set_title(\"RG17\")"
   ]
  },
  {
   "cell_type": "markdown",
   "id": "30a03308",
   "metadata": {
    "slideshow": {
     "slide_type": "subslide"
    }
   },
   "source": [
    "### Official event schedule"
   ]
  },
  {
   "cell_type": "code",
   "execution_count": null,
   "id": "868cd1eb",
   "metadata": {
    "slideshow": {
     "slide_type": "fragment"
    }
   },
   "outputs": [],
   "source": [
    "handler.schedule.head()"
   ]
  },
  {
   "cell_type": "markdown",
   "id": "fed7add5",
   "metadata": {
    "slideshow": {
     "slide_type": "subslide"
    }
   },
   "source": [
    "### Tennis player accounts on Twitter\n",
    "\n",
    "- The total number of professional participants for Roland-Garros is 698. Unfortunately, many of the players have no Twitter accounts.\n",
    "\n",
    "- We assigned players to accounts by the Twitter Search API’s people endpoint; however, the API was sometimes unable to identify the accounts of the active players."
   ]
  },
  {
   "cell_type": "code",
   "execution_count": null,
   "id": "af3b0060",
   "metadata": {
    "slideshow": {
     "slide_type": "fragment"
    }
   },
   "outputs": [],
   "source": [
    "fig = handler.visualize(kind=\"players\", figsize=(8,5))\n",
    "fig.axes[0].set_title(\"RG17\")"
   ]
  },
  {
   "cell_type": "markdown",
   "id": "5de32884",
   "metadata": {
    "slideshow": {
     "slide_type": "subslide"
    }
   },
   "source": [
    "### Node relevance labels\n",
    "\n",
    "- An account in the Twitter mention graph is **relevant** if it corresponds to a tennis player that participated in the tournaments of the given day\n",
    "- Binary node relevance labels change from day to day based on the official schedule of the tournaments.\n",
    "- Supervised evaluation for the main tournaments: 2017-05-28 -> 2017-06-11 (15 days)"
   ]
  },
  {
   "cell_type": "code",
   "execution_count": null,
   "id": "c329ded6",
   "metadata": {
    "slideshow": {
     "slide_type": "fragment"
    }
   },
   "outputs": [],
   "source": [
    "players_in_finals = np.loadtxt(os.path.join(preproc_dir, \"labels_18.csv\"), delimiter=\" \")\n",
    "print(\"Found relevant players on the last day:\", len(players_in_finals))"
   ]
  },
  {
   "cell_type": "code",
   "execution_count": null,
   "id": "64e6e110",
   "metadata": {
    "slideshow": {
     "slide_type": "fragment"
    }
   },
   "outputs": [],
   "source": [
    "print(players_in_finals[:5])"
   ]
  },
  {
   "cell_type": "markdown",
   "id": "c087c416",
   "metadata": {
    "slideshow": {
     "slide_type": "slide"
    }
   },
   "source": [
    "# 2. Online node embeddings"
   ]
  },
  {
   "cell_type": "markdown",
   "id": "6d88e4a2",
   "metadata": {
    "slideshow": {
     "slide_type": "fragment"
    }
   },
   "source": [
    "## i.) Initialize models\n",
    "\n",
    "Our online node embedding algorithms have two components:\n",
    "\n",
    "- **updater:** sample node pairs for representation learning\n",
    "- **learner:** online Word2Vec implementation"
   ]
  },
  {
   "cell_type": "code",
   "execution_count": null,
   "id": "7ccc878b",
   "metadata": {
    "slideshow": {
     "slide_type": "fragment"
    }
   },
   "outputs": [],
   "source": [
    "from online_node2vec.online.walk_sampling import StreamWalkUpdater\n",
    "from online_node2vec.online.walk_sampling import SecondOrderUpdater\n",
    "from online_node2vec.online.w2v_learners import OnlineWord2Vec"
   ]
  },
  {
   "cell_type": "markdown",
   "id": "cb42ab89",
   "metadata": {
    "slideshow": {
     "slide_type": "subslide"
    }
   },
   "source": [
    "### a.) StreamWalk\n",
    "\n",
    "**Updater parameters:**\n",
    "\n",
    "- half_life : Half-life in seconds for time decay\n",
    "- max_len : Maximum length of the sampled temporal random walks\n",
    "- beta : Damping factor for long paths\n",
    "- k: Number of sampled walks for each edge update"
   ]
  },
  {
   "cell_type": "code",
   "execution_count": null,
   "id": "2a11aac5",
   "metadata": {
    "slideshow": {
     "slide_type": "fragment"
    }
   },
   "outputs": [],
   "source": [
    "sw_updater = StreamWalkUpdater(\n",
    "    half_life=3*3600, \n",
    "    max_len=2, \n",
    "    beta=0.9, \n",
    "    k=4,\n",
    ")    "
   ]
  },
  {
   "cell_type": "markdown",
   "id": "c40ff109",
   "metadata": {
    "slideshow": {
     "slide_type": "subslide"
    }
   },
   "source": [
    "**Learner parameters:**\n",
    "\n",
    "- embedding_dims :Dimensions of the representation\n",
    "- lr_rate : Learning rate\n",
    "- neg_rate: Negative rate\n",
    "- mirror: Feed sampled node pairs in both order to the learner\n",
    "- exportW1: bool"
   ]
  },
  {
   "cell_type": "code",
   "execution_count": null,
   "id": "aa248467",
   "metadata": {
    "slideshow": {
     "slide_type": "fragment"
    }
   },
   "outputs": [],
   "source": [
    "dimensions = 128"
   ]
  },
  {
   "cell_type": "code",
   "execution_count": null,
   "id": "c0829717",
   "metadata": {
    "slideshow": {
     "slide_type": "fragment"
    }
   },
   "outputs": [],
   "source": [
    "sw_learner = OnlineWord2Vec(\n",
    "    embedding_dims=dimensions, \n",
    "    lr_rate=0.035, \n",
    "    neg_rate=10, \n",
    "    mirror=False, \n",
    "    exportW1=False, \n",
    ")"
   ]
  },
  {
   "cell_type": "markdown",
   "id": "7c4f1805",
   "metadata": {
    "slideshow": {
     "slide_type": "subslide"
    }
   },
   "source": [
    "### b.) Online second order similarity\n",
    "\n",
    "**Updater parameters:**\n",
    "\n",
    "- half_life : Half-life in seconds for time decay\n",
    "- num_hash : Number of hash functions to use for similarity approximation\n",
    "- hash_gen : Hash function generator class."
   ]
  },
  {
   "cell_type": "code",
   "execution_count": null,
   "id": "ff7cd72a",
   "metadata": {
    "slideshow": {
     "slide_type": "fragment"
    }
   },
   "outputs": [],
   "source": [
    "from online_node2vec.online.hash_utils import ModHashGenerator\n",
    "so_updater = SecondOrderUpdater(\n",
    "    half_life=12*3600,\n",
    "    num_hash=20,\n",
    "    hash_generator=ModHashGenerator()\n",
    ")"
   ]
  },
  {
   "cell_type": "markdown",
   "id": "2aebc854",
   "metadata": {
    "slideshow": {
     "slide_type": "fragment"
    }
   },
   "source": [
    "**Learner parameters:**\n",
    "\n",
    "- uniform_ratio: Fraction of uniform random negative samples. Remaining negative samples are chosen from past positive training instances."
   ]
  },
  {
   "cell_type": "code",
   "execution_count": null,
   "id": "97555b28",
   "metadata": {
    "slideshow": {
     "slide_type": "fragment"
    }
   },
   "outputs": [],
   "source": [
    "so_learner = OnlineWord2Vec(\n",
    "    embedding_dims=dimensions, \n",
    "    lr_rate=0.01, \n",
    "    neg_rate=20, \n",
    "    uniform_ratio=0.8,\n",
    ")"
   ]
  },
  {
   "cell_type": "markdown",
   "id": "da5f30da",
   "metadata": {
    "slideshow": {
     "slide_type": "slide"
    }
   },
   "source": [
    "## ii.) Run models"
   ]
  },
  {
   "cell_type": "markdown",
   "id": "2c9cbf46",
   "metadata": {
    "slideshow": {
     "slide_type": "fragment"
    }
   },
   "source": [
    "**Experiment setup:**\n",
    "- node representations are\n",
    "    - calculated for the first 3 days\n",
    "    - exported in every 6 hours\n",
    "- the total elapsed time and Word2Vec training time are shown in seconds"
   ]
  },
  {
   "cell_type": "code",
   "execution_count": null,
   "id": "a928f488",
   "metadata": {
    "slideshow": {
     "slide_type": "fragment"
    }
   },
   "outputs": [],
   "source": [
    "result_folder = \"../results/\"\n",
    "total_days = 3\n",
    "delta_time = 6*3600\n",
    "root_dir = \"%s/%s/features_%s/delta_%i\" % (result_folder, dataset_id, 0, delta_time)\n",
    "\n",
    "from online_node2vec.data.tennis_handler import load_edge_data\n",
    "edge_data, start_time, end_time = load_edge_data(data_dir, dataset_id, total_days)"
   ]
  },
  {
   "cell_type": "markdown",
   "id": "714fad47",
   "metadata": {
    "slideshow": {
     "slide_type": "subslide"
    }
   },
   "source": [
    "#### Calculate and export StreamWalk representations "
   ]
  },
  {
   "cell_type": "code",
   "execution_count": null,
   "id": "dbaaf7a0",
   "metadata": {
    "slideshow": {
     "slide_type": "fragment"
    }
   },
   "outputs": [],
   "source": [
    "# Execution takes more time!\n",
    "from online_node2vec.online.online_node2vec_models import LazyNode2Vec\n",
    "streamwalk = LazyNode2Vec(sw_updater, sw_learner, is_decayed=True)\n",
    "streamwalk_output_dir = streamwalk.run(edge_data, delta_time, root_dir, start_time=start_time, end_time=end_time)"
   ]
  },
  {
   "cell_type": "markdown",
   "id": "51b465cc",
   "metadata": {
    "slideshow": {
     "slide_type": "subslide"
    }
   },
   "source": [
    "#### Calculate and export online second order similarity representations "
   ]
  },
  {
   "cell_type": "code",
   "execution_count": null,
   "id": "a0a448a6",
   "metadata": {
    "slideshow": {
     "slide_type": "fragment"
    }
   },
   "outputs": [],
   "source": [
    "# Execution takes more time!\n",
    "second_order = LazyNode2Vec(so_updater, so_learner, is_decayed=True)\n",
    "second_order_output_dir = second_order.run(edge_data, delta_time, root_dir, start_time=start_time, end_time=end_time)"
   ]
  },
  {
   "cell_type": "markdown",
   "id": "c3daa2e6",
   "metadata": {
    "slideshow": {
     "slide_type": "slide"
    }
   },
   "source": [
    "## iii.) Observe node representations over time"
   ]
  },
  {
   "cell_type": "markdown",
   "id": "6d75578a",
   "metadata": {
    "slideshow": {
     "slide_type": "fragment"
    }
   },
   "source": [
    "### Load label information"
   ]
  },
  {
   "cell_type": "code",
   "execution_count": null,
   "id": "5b5ed970",
   "metadata": {
    "slideshow": {
     "slide_type": "fragment"
    }
   },
   "outputs": [],
   "source": [
    "from online_node2vec.data.tennis_handler import get_data_info\n",
    "gen_id_to_account, player_labels = get_data_info(os.path.join(data_dir, \"%s_preprocessed\" % dataset_id))"
   ]
  },
  {
   "cell_type": "markdown",
   "id": "e335ccfa",
   "metadata": {
    "slideshow": {
     "slide_type": "fragment"
    }
   },
   "source": [
    "### Load node representations"
   ]
  },
  {
   "cell_type": "code",
   "execution_count": null,
   "id": "a4c8832e",
   "metadata": {
    "slideshow": {
     "slide_type": "skip"
    }
   },
   "outputs": [],
   "source": [
    "print(streamwalk_output_dir)"
   ]
  },
  {
   "cell_type": "code",
   "execution_count": null,
   "id": "e7d32e42",
   "metadata": {
    "slideshow": {
     "slide_type": "fragment"
    }
   },
   "outputs": [],
   "source": [
    "model_dirs = {\n",
    "    \"so\":second_order_output_dir,\n",
    "    \"sw\":streamwalk_output_dir\n",
    "}"
   ]
  },
  {
   "cell_type": "code",
   "execution_count": null,
   "id": "f90a5fde",
   "metadata": {
    "slideshow": {
     "slide_type": "fragment"
    }
   },
   "outputs": [],
   "source": [
    "from online_node2vec.data.n2v_embedding_handler import load_n2v_features\n",
    "feature_sets = {}\n",
    "for model_id in [\"sw\",\"so\"]:\n",
    "    feature_sets[model_id] = load_n2v_features(\n",
    "        model_dirs[model_id], \n",
    "        delta_time, \n",
    "        total_days, \n",
    "        player_labels, \n",
    "        verbose=False\n",
    "    )"
   ]
  },
  {
   "cell_type": "markdown",
   "id": "1bf6a6a5",
   "metadata": {
    "slideshow": {
     "slide_type": "subslide"
    }
   },
   "source": [
    "### Animation: Tennis player account embedding\n",
    "\n",
    "- **Nodes:** Twitter accounts of tennis players\n",
    "    - **red:** players who play on the given day\n",
    "    - **blue:** player who doesn't play on the given day\n",
    "    - colors change from day to day (after every 4 snapshots)\n",
    "    \n",
    "- **Representations:**\n",
    "    - initialized uniformly at random in a 128-dimensional space (close to the origo in snapshot=0)\n",
    "    - updated online as @-mention arrive in the edge stream (we only show the first two coordinates)\n",
    "    - performance is considered better when red nodes are mapped close to each other\n",
    "- **Results:**\n",
    "    - StreamWalk (with 3 hours half-time) efficiently capture daily players by the end of each day\n",
    "    - Online second order similarity (with longer half-life) can also map daily players close to each other in the embedded space:\n",
    "        - Try to find red node groups related to Women's or Men's Singles around snapshot 7"
   ]
  },
  {
   "cell_type": "code",
   "execution_count": null,
   "id": "70d0251e",
   "metadata": {
    "slideshow": {
     "slide_type": "fragment"
    }
   },
   "outputs": [],
   "source": [
    "dates = [\"2017-05-28\",\"2017-05-29\",\"2017-05-30\"]"
   ]
  },
  {
   "cell_type": "code",
   "execution_count": null,
   "id": "5880998b",
   "metadata": {
    "slideshow": {
     "slide_type": "skip"
    }
   },
   "outputs": [],
   "source": [
    "from notebook_utils import prepare_animation\n",
    "from plotly.offline import init_notebook_mode\n",
    "init_notebook_mode(connected=True)\n",
    "\n",
    "fig_sw, embedding_sw = prepare_animation(\n",
    "    handler, \n",
    "    player_labels, \n",
    "    feature_sets[\"sw\"], \n",
    "    delta_time, \n",
    "    \"StreamWalk\", \n",
    "    dates\n",
    ")\n",
    "fig_so, embedding_so = prepare_animation(\n",
    "    handler, \n",
    "    player_labels, \n",
    "    feature_sets[\"so\"], \n",
    "    delta_time, \n",
    "    \"Online second order\", \n",
    "    dates\n",
    ")"
   ]
  },
  {
   "cell_type": "code",
   "execution_count": null,
   "id": "61355d36",
   "metadata": {
    "slideshow": {
     "slide_type": "subslide"
    }
   },
   "outputs": [],
   "source": [
    "fig_sw"
   ]
  },
  {
   "cell_type": "code",
   "execution_count": null,
   "id": "a64e3dc8",
   "metadata": {
    "slideshow": {
     "slide_type": "subslide"
    }
   },
   "outputs": [],
   "source": [
    "fig_so"
   ]
  },
  {
   "cell_type": "markdown",
   "id": "3c98ee2c",
   "metadata": {
    "slideshow": {
     "slide_type": "slide"
    }
   },
   "source": [
    "## iv.) Task: similarity search\n",
    "\n",
    "**active account:** account `n` is active on the given day, if it belongs to a tennis player who participated in a completed, canceled, or resumed game.\n",
    "\n",
    "We use [NDCG](https://en.wikipedia.org/wiki/Discounted_cumulative_gain) (Al-Maskari et al. 2007) to evaluate how other active accounts are similar\n",
    "to a selected one. NDCG is a measure for ranked lists that assigns higher score if active\n",
    "accounts appear with higher rank in the similarity list. \n",
    "\n",
    "\n",
    "In our experiments, we compute\n",
    "the average of the **NDCG@100** for the active accounts as query nodes to measure the\n",
    "performance of a single model in any given snapshot. **Dot product** is used to measure the similarity of node representations."
   ]
  },
  {
   "cell_type": "markdown",
   "id": "b7a1f2b1",
   "metadata": {
    "slideshow": {
     "slide_type": "subslide"
    }
   },
   "source": [
    "### a.) Single model performance"
   ]
  },
  {
   "cell_type": "code",
   "execution_count": null,
   "id": "5cc0ab17",
   "metadata": {
    "slideshow": {
     "slide_type": "fragment"
    }
   },
   "outputs": [],
   "source": [
    "from online_node2vec.evaluation.ndcg_computer import parallel_eval_ndcg\n",
    "metric = \"-dot\"\n",
    "max_threads = 2\n",
    "model_performance = {}\n",
    "for model_id in [\"sw\",\"so\"]:\n",
    "    model_performance[model_id] = pd.concat(parallel_eval_ndcg(\n",
    "        feature_sets[model_id], \n",
    "        gen_id_to_account, \n",
    "        metric,\n",
    "        n_threads=max_threads\n",
    "    ))"
   ]
  },
  {
   "cell_type": "code",
   "execution_count": null,
   "id": "ccec4e35",
   "metadata": {
    "slideshow": {
     "slide_type": "fragment"
    }
   },
   "outputs": [],
   "source": [
    "sw_ndcg = model_performance[\"sw\"][\"ndcg\"].mean()\n",
    "so_ndcg = model_performance[\"so\"][\"ndcg\"].mean()\n",
    "print(\"StreamWalk NDCG:\", sw_ndcg)\n",
    "print(\"Online second order NDCG:\", so_ndcg)"
   ]
  },
  {
   "cell_type": "markdown",
   "id": "cca8ed57",
   "metadata": {
    "slideshow": {
     "slide_type": "subslide"
    }
   },
   "source": [
    "### b.) Combination of StreamWalk and online second order similarity\n",
    "\n",
    "- StreamWalk and online second order similarity can learn different network properties from the edge stream. \n",
    "- We combined the output of StreamWalk and second order similarity by using the weighted average of the corresponding inner products as similarity. "
   ]
  },
  {
   "cell_type": "code",
   "execution_count": null,
   "id": "b8d570df",
   "metadata": {
    "slideshow": {
     "slide_type": "fragment"
    }
   },
   "outputs": [],
   "source": [
    "from online_node2vec.evaluation.ndcg_computer import parallel_combined_eval_ndcg\n",
    "from tqdm import tqdm\n",
    "\n",
    "weights = list(np.arange(0.1,1.1,0.1))\n",
    "\n",
    "# Execution takes more time!\n",
    "combination_performance = []\n",
    "for second_order_weight in tqdm(weights):\n",
    "    combination_performance.append(pd.concat(parallel_combined_eval_ndcg(\n",
    "        feature_sets[\"so\"], \n",
    "        feature_sets[\"sw\"], \n",
    "        second_order_weight, \n",
    "        gen_id_to_account, \n",
    "        metric, \n",
    "        n_threads=max_threads\n",
    "    )))"
   ]
  },
  {
   "cell_type": "code",
   "execution_count": null,
   "id": "4db85276",
   "metadata": {
    "slideshow": {
     "slide_type": "skip"
    }
   },
   "outputs": [],
   "source": [
    "mean_ndcg = [sw_ndcg] + [perf[\"ndcg\"].mean() for perf in combination_performance] + [so_ndcg]\n",
    "so_weights = [0.0] + weights + [1.0]"
   ]
  },
  {
   "cell_type": "markdown",
   "id": "a91ded23",
   "metadata": {
    "slideshow": {
     "slide_type": "subslide"
    }
   },
   "source": [
    "#### Combination on the first 3 days"
   ]
  },
  {
   "cell_type": "code",
   "execution_count": null,
   "id": "e1218981",
   "metadata": {
    "slideshow": {
     "slide_type": "fragment"
    }
   },
   "outputs": [],
   "source": [
    "plt.figure(figsize=(8,6))\n",
    "plt.plot(so_weights, mean_ndcg)\n",
    "plt.title(dataset_id.upper())\n",
    "plt.xlabel(\"Weight of the second order model in the combination\")\n",
    "plt.ylabel(\"NDCG@100\")\n",
    "plt.show()"
   ]
  },
  {
   "cell_type": "markdown",
   "id": "7bd49428",
   "metadata": {
    "slideshow": {
     "slide_type": "subslide"
    }
   },
   "source": [
    "### c.) Results for the complete RG17 and UO17 datasets"
   ]
  },
  {
   "cell_type": "markdown",
   "id": "198aeee4",
   "metadata": {
    "slideshow": {
     "slide_type": "fragment"
    }
   },
   "source": [
    "![](http://info.ilab.sztaki.hu/~fberes/tennis/performance_table.png)"
   ]
  },
  {
   "cell_type": "markdown",
   "id": "b0fb0b31",
   "metadata": {
    "slideshow": {
     "slide_type": "subslide"
    }
   },
   "source": [
    "![](http://info.ilab.sztaki.hu/~fberes/tennis/temporal_performance.png)"
   ]
  },
  {
   "cell_type": "markdown",
   "id": "fab2f2be",
   "metadata": {
    "slideshow": {
     "slide_type": "subslide"
    }
   },
   "source": [
    "<img src=\"http://info.ilab.sztaki.hu/~fberes/tennis/half_life.png\" alt=\"drawing\" width=\"585\"/>"
   ]
  },
  {
   "cell_type": "markdown",
   "id": "0f37e5fa",
   "metadata": {
    "slideshow": {
     "slide_type": "subslide"
    }
   },
   "source": [
    "<img src=\"http://info.ilab.sztaki.hu/~fberes/tennis/number_of_walks_and_hash_functions.png\" alt=\"drawing\" width=\"570\"/>"
   ]
  },
  {
   "cell_type": "markdown",
   "id": "6f896099",
   "metadata": {
    "slideshow": {
     "slide_type": "subslide"
    }
   },
   "source": [
    "![](http://info.ilab.sztaki.hu/~fberes/tennis/combination.png)"
   ]
  }
 ],
 "metadata": {
  "celltoolbar": "Slideshow",
  "kernelspec": {
   "display_name": "Python [conda env:onlinen2v]",
   "language": "python",
   "name": "conda-env-onlinen2v-py"
  },
  "language_info": {
   "codemirror_mode": {
    "name": "ipython",
    "version": 3
   },
   "file_extension": ".py",
   "mimetype": "text/x-python",
   "name": "python",
   "nbconvert_exporter": "python",
   "pygments_lexer": "ipython3",
   "version": "3.7.10"
  }
 },
 "nbformat": 4,
 "nbformat_minor": 5
}
